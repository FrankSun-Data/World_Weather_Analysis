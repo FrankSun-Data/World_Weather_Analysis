{
 "cells": [
  {
   "cell_type": "markdown",
   "metadata": {},
   "source": [
    "## Deliverable 2. Create a Customer Travel Destinations Map."
   ]
  },
  {
   "cell_type": "code",
   "execution_count": 21,
   "metadata": {},
   "outputs": [],
   "source": [
    "# Dependencies and Setup\n",
    "import pandas as pd\n",
    "import requests\n",
    "import gmaps\n",
    "import numpy as np\n",
    "\n",
    "# Import API key\n",
    "from config1 import g_key\n",
    "\n",
    "# Configure gmaps API key\n",
    "gmaps.configure(api_key=g_key)"
   ]
  },
  {
   "cell_type": "code",
   "execution_count": 3,
   "metadata": {},
   "outputs": [
    {
     "output_type": "execute_result",
     "data": {
      "text/plain": [
       "   City_ID          City Country      Lat       Lng  Max Temp  Humidity  \\\n",
       "0        0     Mahebourg      MU -20.4081   57.7000     23.16        88   \n",
       "1        1       Ushuaia      AR -54.8000  -68.3000      2.81        81   \n",
       "2        2  Punta Arenas      CL -53.1500  -70.9167      4.06        81   \n",
       "3        3   Provideniya      RU  64.3833 -173.3000      3.68        63   \n",
       "4        4       Fortuna      US  40.5982 -124.1573     18.57        66   \n",
       "\n",
       "   Cloudiness  Wind Speed Current Description  \n",
       "0          40        4.12    scattered clouds  \n",
       "1          75        0.00       broken clouds  \n",
       "2           0        4.45           clear sky  \n",
       "3          16        1.80          few clouds  \n",
       "4          75        2.24       broken clouds  "
      ],
      "text/html": "<div>\n<style scoped>\n    .dataframe tbody tr th:only-of-type {\n        vertical-align: middle;\n    }\n\n    .dataframe tbody tr th {\n        vertical-align: top;\n    }\n\n    .dataframe thead th {\n        text-align: right;\n    }\n</style>\n<table border=\"1\" class=\"dataframe\">\n  <thead>\n    <tr style=\"text-align: right;\">\n      <th></th>\n      <th>City_ID</th>\n      <th>City</th>\n      <th>Country</th>\n      <th>Lat</th>\n      <th>Lng</th>\n      <th>Max Temp</th>\n      <th>Humidity</th>\n      <th>Cloudiness</th>\n      <th>Wind Speed</th>\n      <th>Current Description</th>\n    </tr>\n  </thead>\n  <tbody>\n    <tr>\n      <th>0</th>\n      <td>0</td>\n      <td>Mahebourg</td>\n      <td>MU</td>\n      <td>-20.4081</td>\n      <td>57.7000</td>\n      <td>23.16</td>\n      <td>88</td>\n      <td>40</td>\n      <td>4.12</td>\n      <td>scattered clouds</td>\n    </tr>\n    <tr>\n      <th>1</th>\n      <td>1</td>\n      <td>Ushuaia</td>\n      <td>AR</td>\n      <td>-54.8000</td>\n      <td>-68.3000</td>\n      <td>2.81</td>\n      <td>81</td>\n      <td>75</td>\n      <td>0.00</td>\n      <td>broken clouds</td>\n    </tr>\n    <tr>\n      <th>2</th>\n      <td>2</td>\n      <td>Punta Arenas</td>\n      <td>CL</td>\n      <td>-53.1500</td>\n      <td>-70.9167</td>\n      <td>4.06</td>\n      <td>81</td>\n      <td>0</td>\n      <td>4.45</td>\n      <td>clear sky</td>\n    </tr>\n    <tr>\n      <th>3</th>\n      <td>3</td>\n      <td>Provideniya</td>\n      <td>RU</td>\n      <td>64.3833</td>\n      <td>-173.3000</td>\n      <td>3.68</td>\n      <td>63</td>\n      <td>16</td>\n      <td>1.80</td>\n      <td>few clouds</td>\n    </tr>\n    <tr>\n      <th>4</th>\n      <td>4</td>\n      <td>Fortuna</td>\n      <td>US</td>\n      <td>40.5982</td>\n      <td>-124.1573</td>\n      <td>18.57</td>\n      <td>66</td>\n      <td>75</td>\n      <td>2.24</td>\n      <td>broken clouds</td>\n    </tr>\n  </tbody>\n</table>\n</div>"
     },
     "metadata": {},
     "execution_count": 3
    }
   ],
   "source": [
    "# 1. Import the WeatherPy_database.csv file. \n",
    "city_data_df = pd.read_csv(\"weather_data/3cities.csv\")\n",
    "city_data_df.head()"
   ]
  },
  {
   "cell_type": "code",
   "execution_count": 7,
   "metadata": {},
   "outputs": [],
   "source": [
    "# 2. Prompt the user to enter minimum and maximum temperature criteria \n",
    "min_temp = float(input(\"What is the minimum temperature you would like for your trip? \"))\n",
    "max_temp = float(input(\"What is the maximum temperature you would like for your trip? \"))"
   ]
  },
  {
   "cell_type": "code",
   "execution_count": 8,
   "metadata": {},
   "outputs": [
    {
     "output_type": "execute_result",
     "data": {
      "text/plain": [
       "    City_ID              City Country      Lat      Lng  Max Temp  Humidity  \\\n",
       "21       21         Bathsheba      BB  13.2167 -59.5167     30.34        54   \n",
       "44       44  Puerto Escondido      MX  15.8500 -97.0667     31.59        64   \n",
       "56       56             Nalut      LY  30.3333  10.8500     35.98        10   \n",
       "57       57      San Patricio      US  28.0170 -97.5169     32.23        64   \n",
       "74       74            Bonfim      BR   3.0833 -59.9500     30.45        62   \n",
       "\n",
       "    Cloudiness  Wind Speed Current Description  \n",
       "21          40        8.32    scattered clouds  \n",
       "44          75        3.22       broken clouds  \n",
       "56          25        5.33    scattered clouds  \n",
       "57           3        7.40           clear sky  \n",
       "74          41        2.45    scattered clouds  "
      ],
      "text/html": "<div>\n<style scoped>\n    .dataframe tbody tr th:only-of-type {\n        vertical-align: middle;\n    }\n\n    .dataframe tbody tr th {\n        vertical-align: top;\n    }\n\n    .dataframe thead th {\n        text-align: right;\n    }\n</style>\n<table border=\"1\" class=\"dataframe\">\n  <thead>\n    <tr style=\"text-align: right;\">\n      <th></th>\n      <th>City_ID</th>\n      <th>City</th>\n      <th>Country</th>\n      <th>Lat</th>\n      <th>Lng</th>\n      <th>Max Temp</th>\n      <th>Humidity</th>\n      <th>Cloudiness</th>\n      <th>Wind Speed</th>\n      <th>Current Description</th>\n    </tr>\n  </thead>\n  <tbody>\n    <tr>\n      <th>21</th>\n      <td>21</td>\n      <td>Bathsheba</td>\n      <td>BB</td>\n      <td>13.2167</td>\n      <td>-59.5167</td>\n      <td>30.34</td>\n      <td>54</td>\n      <td>40</td>\n      <td>8.32</td>\n      <td>scattered clouds</td>\n    </tr>\n    <tr>\n      <th>44</th>\n      <td>44</td>\n      <td>Puerto Escondido</td>\n      <td>MX</td>\n      <td>15.8500</td>\n      <td>-97.0667</td>\n      <td>31.59</td>\n      <td>64</td>\n      <td>75</td>\n      <td>3.22</td>\n      <td>broken clouds</td>\n    </tr>\n    <tr>\n      <th>56</th>\n      <td>56</td>\n      <td>Nalut</td>\n      <td>LY</td>\n      <td>30.3333</td>\n      <td>10.8500</td>\n      <td>35.98</td>\n      <td>10</td>\n      <td>25</td>\n      <td>5.33</td>\n      <td>scattered clouds</td>\n    </tr>\n    <tr>\n      <th>57</th>\n      <td>57</td>\n      <td>San Patricio</td>\n      <td>US</td>\n      <td>28.0170</td>\n      <td>-97.5169</td>\n      <td>32.23</td>\n      <td>64</td>\n      <td>3</td>\n      <td>7.40</td>\n      <td>clear sky</td>\n    </tr>\n    <tr>\n      <th>74</th>\n      <td>74</td>\n      <td>Bonfim</td>\n      <td>BR</td>\n      <td>3.0833</td>\n      <td>-59.9500</td>\n      <td>30.45</td>\n      <td>62</td>\n      <td>41</td>\n      <td>2.45</td>\n      <td>scattered clouds</td>\n    </tr>\n  </tbody>\n</table>\n</div>"
     },
     "metadata": {},
     "execution_count": 8
    }
   ],
   "source": [
    "# 3. Filter the city_data_df DataFrame using the input statements to create a new DataFrame using the loc method.\n",
    "preferred_cities_df = city_data_df.loc[(city_data_df[\"Max Temp\"] <= max_temp) & \\\n",
    "                                       (city_data_df[\"Max Temp\"] >= min_temp)]\n",
    "preferred_cities_df.head()"
   ]
  },
  {
   "cell_type": "code",
   "execution_count": 9,
   "metadata": {},
   "outputs": [
    {
     "output_type": "execute_result",
     "data": {
      "text/plain": [
       "City_ID                87\n",
       "City                   87\n",
       "Country                87\n",
       "Lat                    87\n",
       "Lng                    87\n",
       "Max Temp               87\n",
       "Humidity               87\n",
       "Cloudiness             87\n",
       "Wind Speed             87\n",
       "Current Description    87\n",
       "dtype: int64"
      ]
     },
     "metadata": {},
     "execution_count": 9
    }
   ],
   "source": [
    "# 4a. Determine if there are any empty rows.\n",
    "preferred_cities_df.count()"
   ]
  },
  {
   "cell_type": "code",
   "execution_count": 11,
   "metadata": {},
   "outputs": [
    {
     "output_type": "execute_result",
     "data": {
      "text/plain": [
       "     City_ID              City Country      Lat       Lng  Max Temp  Humidity  \\\n",
       "21        21         Bathsheba      BB  13.2167  -59.5167     30.34        54   \n",
       "44        44  Puerto Escondido      MX  15.8500  -97.0667     31.59        64   \n",
       "56        56             Nalut      LY  30.3333   10.8500     35.98        10   \n",
       "57        57      San Patricio      US  28.0170  -97.5169     32.23        64   \n",
       "74        74            Bonfim      BR   3.0833  -59.9500     30.45        62   \n",
       "..       ...               ...     ...      ...       ...       ...       ...   \n",
       "668      668    Sena Madureira      BR  -9.0656  -68.6569     32.12        51   \n",
       "680      680     Saint Andrews      US  34.0454  -81.1293     32.36        65   \n",
       "684      684            Tondon      GN  10.3667  -13.3500     32.20        58   \n",
       "688      688             Keita      NE  14.7551    5.7749     37.56        16   \n",
       "689      689             Ukiah      US  39.1502 -123.2078     30.07        29   \n",
       "\n",
       "     Cloudiness  Wind Speed Current Description  \n",
       "21           40        8.32    scattered clouds  \n",
       "44           75        3.22       broken clouds  \n",
       "56           25        5.33    scattered clouds  \n",
       "57            3        7.40           clear sky  \n",
       "74           41        2.45    scattered clouds  \n",
       "..          ...         ...                 ...  \n",
       "668          31        1.10    scattered clouds  \n",
       "680          75        2.24       broken clouds  \n",
       "684          76        1.68       broken clouds  \n",
       "688         100        4.05     overcast clouds  \n",
       "689           1        6.69           clear sky  \n",
       "\n",
       "[87 rows x 10 columns]"
      ],
      "text/html": "<div>\n<style scoped>\n    .dataframe tbody tr th:only-of-type {\n        vertical-align: middle;\n    }\n\n    .dataframe tbody tr th {\n        vertical-align: top;\n    }\n\n    .dataframe thead th {\n        text-align: right;\n    }\n</style>\n<table border=\"1\" class=\"dataframe\">\n  <thead>\n    <tr style=\"text-align: right;\">\n      <th></th>\n      <th>City_ID</th>\n      <th>City</th>\n      <th>Country</th>\n      <th>Lat</th>\n      <th>Lng</th>\n      <th>Max Temp</th>\n      <th>Humidity</th>\n      <th>Cloudiness</th>\n      <th>Wind Speed</th>\n      <th>Current Description</th>\n    </tr>\n  </thead>\n  <tbody>\n    <tr>\n      <th>21</th>\n      <td>21</td>\n      <td>Bathsheba</td>\n      <td>BB</td>\n      <td>13.2167</td>\n      <td>-59.5167</td>\n      <td>30.34</td>\n      <td>54</td>\n      <td>40</td>\n      <td>8.32</td>\n      <td>scattered clouds</td>\n    </tr>\n    <tr>\n      <th>44</th>\n      <td>44</td>\n      <td>Puerto Escondido</td>\n      <td>MX</td>\n      <td>15.8500</td>\n      <td>-97.0667</td>\n      <td>31.59</td>\n      <td>64</td>\n      <td>75</td>\n      <td>3.22</td>\n      <td>broken clouds</td>\n    </tr>\n    <tr>\n      <th>56</th>\n      <td>56</td>\n      <td>Nalut</td>\n      <td>LY</td>\n      <td>30.3333</td>\n      <td>10.8500</td>\n      <td>35.98</td>\n      <td>10</td>\n      <td>25</td>\n      <td>5.33</td>\n      <td>scattered clouds</td>\n    </tr>\n    <tr>\n      <th>57</th>\n      <td>57</td>\n      <td>San Patricio</td>\n      <td>US</td>\n      <td>28.0170</td>\n      <td>-97.5169</td>\n      <td>32.23</td>\n      <td>64</td>\n      <td>3</td>\n      <td>7.40</td>\n      <td>clear sky</td>\n    </tr>\n    <tr>\n      <th>74</th>\n      <td>74</td>\n      <td>Bonfim</td>\n      <td>BR</td>\n      <td>3.0833</td>\n      <td>-59.9500</td>\n      <td>30.45</td>\n      <td>62</td>\n      <td>41</td>\n      <td>2.45</td>\n      <td>scattered clouds</td>\n    </tr>\n    <tr>\n      <th>...</th>\n      <td>...</td>\n      <td>...</td>\n      <td>...</td>\n      <td>...</td>\n      <td>...</td>\n      <td>...</td>\n      <td>...</td>\n      <td>...</td>\n      <td>...</td>\n      <td>...</td>\n    </tr>\n    <tr>\n      <th>668</th>\n      <td>668</td>\n      <td>Sena Madureira</td>\n      <td>BR</td>\n      <td>-9.0656</td>\n      <td>-68.6569</td>\n      <td>32.12</td>\n      <td>51</td>\n      <td>31</td>\n      <td>1.10</td>\n      <td>scattered clouds</td>\n    </tr>\n    <tr>\n      <th>680</th>\n      <td>680</td>\n      <td>Saint Andrews</td>\n      <td>US</td>\n      <td>34.0454</td>\n      <td>-81.1293</td>\n      <td>32.36</td>\n      <td>65</td>\n      <td>75</td>\n      <td>2.24</td>\n      <td>broken clouds</td>\n    </tr>\n    <tr>\n      <th>684</th>\n      <td>684</td>\n      <td>Tondon</td>\n      <td>GN</td>\n      <td>10.3667</td>\n      <td>-13.3500</td>\n      <td>32.20</td>\n      <td>58</td>\n      <td>76</td>\n      <td>1.68</td>\n      <td>broken clouds</td>\n    </tr>\n    <tr>\n      <th>688</th>\n      <td>688</td>\n      <td>Keita</td>\n      <td>NE</td>\n      <td>14.7551</td>\n      <td>5.7749</td>\n      <td>37.56</td>\n      <td>16</td>\n      <td>100</td>\n      <td>4.05</td>\n      <td>overcast clouds</td>\n    </tr>\n    <tr>\n      <th>689</th>\n      <td>689</td>\n      <td>Ukiah</td>\n      <td>US</td>\n      <td>39.1502</td>\n      <td>-123.2078</td>\n      <td>30.07</td>\n      <td>29</td>\n      <td>1</td>\n      <td>6.69</td>\n      <td>clear sky</td>\n    </tr>\n  </tbody>\n</table>\n<p>87 rows × 10 columns</p>\n</div>"
     },
     "metadata": {},
     "execution_count": 11
    }
   ],
   "source": [
    "# 4b. Drop any empty rows and create a new DataFrame that doesn’t have empty rows.\n",
    "preferred_cities_df.dropna()"
   ]
  },
  {
   "cell_type": "code",
   "execution_count": 14,
   "metadata": {},
   "outputs": [
    {
     "output_type": "execute_result",
     "data": {
      "text/plain": [
       "                 City Country  Max Temp Current Description      Lat      Lng  \\\n",
       "21          Bathsheba      BB     30.34    scattered clouds  13.2167 -59.5167   \n",
       "44   Puerto Escondido      MX     31.59       broken clouds  15.8500 -97.0667   \n",
       "56              Nalut      LY     35.98    scattered clouds  30.3333  10.8500   \n",
       "57       San Patricio      US     32.23           clear sky  28.0170 -97.5169   \n",
       "74             Bonfim      BR     30.45    scattered clouds   3.0833 -59.9500   \n",
       "78              Bilma      NE     36.98     overcast clouds  18.6853  12.9164   \n",
       "82              Avera      US     32.17     overcast clouds  33.1940 -82.5271   \n",
       "93            Roswell      US     30.03     overcast clouds  34.0232 -84.3616   \n",
       "110            Albany      US     33.03       broken clouds  42.6001 -73.9662   \n",
       "111          Urubicha      BO     33.83           clear sky -15.3833 -62.9500   \n",
       "\n",
       "    Hotel Name  \n",
       "21              \n",
       "44              \n",
       "56              \n",
       "57              \n",
       "74              \n",
       "78              \n",
       "82              \n",
       "93              \n",
       "110             \n",
       "111             "
      ],
      "text/html": "<div>\n<style scoped>\n    .dataframe tbody tr th:only-of-type {\n        vertical-align: middle;\n    }\n\n    .dataframe tbody tr th {\n        vertical-align: top;\n    }\n\n    .dataframe thead th {\n        text-align: right;\n    }\n</style>\n<table border=\"1\" class=\"dataframe\">\n  <thead>\n    <tr style=\"text-align: right;\">\n      <th></th>\n      <th>City</th>\n      <th>Country</th>\n      <th>Max Temp</th>\n      <th>Current Description</th>\n      <th>Lat</th>\n      <th>Lng</th>\n      <th>Hotel Name</th>\n    </tr>\n  </thead>\n  <tbody>\n    <tr>\n      <th>21</th>\n      <td>Bathsheba</td>\n      <td>BB</td>\n      <td>30.34</td>\n      <td>scattered clouds</td>\n      <td>13.2167</td>\n      <td>-59.5167</td>\n      <td></td>\n    </tr>\n    <tr>\n      <th>44</th>\n      <td>Puerto Escondido</td>\n      <td>MX</td>\n      <td>31.59</td>\n      <td>broken clouds</td>\n      <td>15.8500</td>\n      <td>-97.0667</td>\n      <td></td>\n    </tr>\n    <tr>\n      <th>56</th>\n      <td>Nalut</td>\n      <td>LY</td>\n      <td>35.98</td>\n      <td>scattered clouds</td>\n      <td>30.3333</td>\n      <td>10.8500</td>\n      <td></td>\n    </tr>\n    <tr>\n      <th>57</th>\n      <td>San Patricio</td>\n      <td>US</td>\n      <td>32.23</td>\n      <td>clear sky</td>\n      <td>28.0170</td>\n      <td>-97.5169</td>\n      <td></td>\n    </tr>\n    <tr>\n      <th>74</th>\n      <td>Bonfim</td>\n      <td>BR</td>\n      <td>30.45</td>\n      <td>scattered clouds</td>\n      <td>3.0833</td>\n      <td>-59.9500</td>\n      <td></td>\n    </tr>\n    <tr>\n      <th>78</th>\n      <td>Bilma</td>\n      <td>NE</td>\n      <td>36.98</td>\n      <td>overcast clouds</td>\n      <td>18.6853</td>\n      <td>12.9164</td>\n      <td></td>\n    </tr>\n    <tr>\n      <th>82</th>\n      <td>Avera</td>\n      <td>US</td>\n      <td>32.17</td>\n      <td>overcast clouds</td>\n      <td>33.1940</td>\n      <td>-82.5271</td>\n      <td></td>\n    </tr>\n    <tr>\n      <th>93</th>\n      <td>Roswell</td>\n      <td>US</td>\n      <td>30.03</td>\n      <td>overcast clouds</td>\n      <td>34.0232</td>\n      <td>-84.3616</td>\n      <td></td>\n    </tr>\n    <tr>\n      <th>110</th>\n      <td>Albany</td>\n      <td>US</td>\n      <td>33.03</td>\n      <td>broken clouds</td>\n      <td>42.6001</td>\n      <td>-73.9662</td>\n      <td></td>\n    </tr>\n    <tr>\n      <th>111</th>\n      <td>Urubicha</td>\n      <td>BO</td>\n      <td>33.83</td>\n      <td>clear sky</td>\n      <td>-15.3833</td>\n      <td>-62.9500</td>\n      <td></td>\n    </tr>\n  </tbody>\n</table>\n</div>"
     },
     "metadata": {},
     "execution_count": 14
    }
   ],
   "source": [
    "# 5a. Create DataFrame called hotel_df to store hotel names along with city, country, max temp, and coordinates.\n",
    "hotel_df = preferred_cities_df[[\"City\", \"Country\", \"Max Temp\", \"Current Description\",\"Lat\", \"Lng\"]].copy()\n",
    "\n",
    "# 5b. Create a new column \"Hotel Name\"\n",
    "hotel_df[\"Hotel Name\"] = \"\"\n",
    "hotel_df.head(10)"
   ]
  },
  {
   "cell_type": "code",
   "execution_count": 17,
   "metadata": {},
   "outputs": [
    {
     "output_type": "stream",
     "name": "stdout",
     "text": [
      "Hotel not found\n",
      "Hotel not found\n",
      "Hotel not found\n",
      "Hotel not found\n",
      "Hotel not found\n",
      "Hotel not found\n",
      "Hotel not found\n",
      "Hotel not found\n",
      "Hotel not found\n",
      "Hotel not found\n",
      "Hotel not found\n",
      "Hotel not found\n",
      "Hotel not found\n"
     ]
    }
   ],
   "source": [
    "# 6a. Set parameters to search for hotels with 5000 meters.\n",
    "params = {\n",
    "    \"radius\": 5000,\n",
    "    \"type\": \"lodging\",\n",
    "    \"key\": g_key\n",
    "}\n",
    "\n",
    "# 6b. Iterate through the hotel DataFrame.\n",
    "for index, row in hotel_df.iterrows():\n",
    "    # 6c. Get latitude and longitude from DataFrame\n",
    "    lat = row[\"Lat\"]\n",
    "    lng = row[\"Lng\"]\n",
    "    params[\"location\"] = f\"{lat},{lng}\"\n",
    "    \n",
    "    # 6d. Set up the base URL for the Google Directions API to get JSON data.\n",
    "    base_url = \"https://maps.googleapis.com/maps/api/place/nearbysearch/json\"\n",
    "\n",
    "    # 6e. Make request and retrieve the JSON data from the search. \n",
    "    hotels = requests.get(base_url, params=params).json()\n",
    "    \n",
    "    # 6f. Get the first hotel from the results and store the name, if a hotel isn't found skip the city.\n",
    "    try:\n",
    "        hotel_df.loc[index, \"Hotel Name\"] = hotels[\"results\"][0][\"name\"]\n",
    "    except(IndexError):\n",
    "        print(\"Hotel not found\")\n",
    "        "
   ]
  },
  {
   "cell_type": "code",
   "execution_count": 28,
   "metadata": {},
   "outputs": [],
   "source": [
    "# 7. Drop the rows where there is no Hotel Name.\n",
    "hotel_df.replace(\"\",np.nan,inplace=True)\n",
    "hotel_df=hotel_df.dropna()"
   ]
  },
  {
   "cell_type": "code",
   "execution_count": 29,
   "metadata": {},
   "outputs": [],
   "source": [
    "# Create the output file (CSV).\n",
    "output_data_file = \"weather_data/WeatherPy_vacation.csv\"\n",
    "# Export the City_Data into a CSV.\n",
    "hotel_df.to_csv(output_data_file, index_label=\"City_ID\")"
   ]
  },
  {
   "cell_type": "code",
   "execution_count": 30,
   "metadata": {},
   "outputs": [],
   "source": [
    "# 9. Using the template add city name, the country code, the weather description and maximum temperature for the city.\n",
    "info_box_template = \"\"\"\n",
    "<dl>\n",
    "<dt>Hotel Name</dt><dd>{Hotel Name}</dd>\n",
    "<dt>City</dt><dd>{City}</dd>\n",
    "<dt>Country</dt><dd>{Country}</dd>\n",
    "<dt>Max Temp</dt><dd>{Max Temp} °F</dd>\n",
    "</dl>\n",
    "\"\"\"\n",
    "\n",
    "# 10a. Get the data from each row and add it to the formatting template and store the data in a list.\n",
    "hotel_info = [info_box_template.format(**row) for index, row in hotel_df.iterrows()]\n",
    "\n",
    "# 10b. Get the latitude and longitude from each row and store in a new DataFrame.\n",
    "locations = hotel_df[[\"Lat\", \"Lng\"]]"
   ]
  },
  {
   "cell_type": "code",
   "execution_count": 31,
   "metadata": {},
   "outputs": [
    {
     "output_type": "display_data",
     "data": {
      "text/plain": "Figure(layout=FigureLayout(height='420px'))",
      "application/vnd.jupyter.widget-view+json": {
       "version_major": 2,
       "version_minor": 0,
       "model_id": "9f1c79479fc34292bc7e80ec285c963a"
      }
     },
     "metadata": {}
    }
   ],
   "source": [
    "# 11a. Add a marker layer for each city to the map. \n",
    "locations = hotel_df[[\"Lat\", \"Lng\"]]\n",
    "max_temp = hotel_df[\"Max Temp\"]\n",
    "fig = gmaps.figure(center=(30.0, 31.0), zoom_level=1.5)\n",
    "marker_layer = gmaps.marker_layer(locations,info_box_content=hotel_info)\n",
    "fig.add_layer(marker_layer)\n",
    "# 11b. Display the figure\n",
    "fig"
   ]
  },
  {
   "cell_type": "code",
   "execution_count": null,
   "metadata": {},
   "outputs": [],
   "source": []
  },
  {
   "cell_type": "code",
   "execution_count": null,
   "metadata": {},
   "outputs": [],
   "source": []
  }
 ],
 "metadata": {
  "kernelspec": {
   "name": "pythondata",
   "display_name": "Python 3.9.4 64-bit ('PythonData': conda)"
  },
  "language_info": {
   "codemirror_mode": {
    "name": "ipython",
    "version": 3
   },
   "file_extension": ".py",
   "mimetype": "text/x-python",
   "name": "python",
   "nbconvert_exporter": "python",
   "pygments_lexer": "ipython3",
   "version": "3.9.4"
  },
  "latex_envs": {
   "LaTeX_envs_menu_present": true,
   "autoclose": false,
   "autocomplete": true,
   "bibliofile": "biblio.bib",
   "cite_by": "apalike",
   "current_citInitial": 1,
   "eqLabelWithNumbers": true,
   "eqNumInitial": 1,
   "hotkeys": {
    "equation": "Ctrl-E",
    "itemize": "Ctrl-I"
   },
   "labels_anchors": false,
   "latex_user_defs": false,
   "report_style_numbering": false,
   "user_envs_cfg": false
  }
 },
 "nbformat": 4,
 "nbformat_minor": 2
}